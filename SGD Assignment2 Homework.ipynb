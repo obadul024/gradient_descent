{
 "cells": [
  {
   "cell_type": "markdown",
   "metadata": {},
   "source": [
    "#                                    **Deeplearning Assingment # 2 Gradient Descent**"
   ]
  },
  {
   "cell_type": "markdown",
   "metadata": {},
   "source": [
    "**Gradient Descent Method Implementation using Numpy,\n",
    "by Engr. Obaidullah, CS 1947**"
   ]
  },
  {
   "cell_type": "code",
   "execution_count": 1,
   "metadata": {},
   "outputs": [],
   "source": [
    "import numpy as np\n",
    "import matplotlib.pyplot as plt\n",
    "from numpy import linalg as LA \n"
   ]
  },
  {
   "cell_type": "code",
   "execution_count": 2,
   "metadata": {},
   "outputs": [],
   "source": [
    "# Linear Equation Definition as per Eq.4.21\n",
    "\n",
    "def qfunc(A,x,b):\n",
    "    try:\n",
    "        prd1 = np.matmul(A,x)\n",
    "        #print(prd1.shape, b.shape)\n",
    "        prd2 = LA.norm(np.subtract(prd1,b))**2\n",
    "        #print(prd2)\n",
    "        return prd2*0.5\n",
    "    except:\n",
    "        print(\"Error QFunc \")\n",
    "        "
   ]
  },
  {
   "cell_type": "code",
   "execution_count": 3,
   "metadata": {},
   "outputs": [],
   "source": [
    "# Derivative Function from Eq. 4.22 in the book \n",
    "\n",
    "\n",
    "\n",
    "def dervF(A,x,b):\n",
    "    try:\n",
    "        prd1 = np.matmul(A,x)\n",
    "        #print(A.shape, x.shape)\n",
    "        #print(\"\\n\",prd1.shape)\n",
    "        \n",
    "        prd2 = np.matmul(np.transpose(A),prd1)\n",
    "        #print(\"\\nPRD2\",prd2.shape)\n",
    "        prd3 = np.matmul(np.transpose(A),b)\n",
    "        #print(\"\\n\",prd3.shape)\n",
    "        #print(\"Matrix shapes::At*A ## AtA*x ## Atb\",prd1.shape,prd2.shape,prd3.shape)\n",
    "        prd4 = np.subtract(prd2,prd3)\n",
    "        \n",
    "        return prd4\n",
    "    except:\n",
    "        print(\"Matrix Multiplication Error\")"
   ]
  },
  {
   "cell_type": "code",
   "execution_count": 34,
   "metadata": {},
   "outputs": [],
   "source": [
    "# DONOT RUN THIS CELL\n",
    "# SGD Using For Loop\n",
    "\n",
    "def sgdAlg(stepsize,epsilon,A,x,b):\n",
    "    for i in range(10000):\n",
    "        #print(LA.norm(dervF(A,x,b)))\n",
    "        if (LA.norm(dervF(A,x,b)) > epsilon):\n",
    "            x = x - stepsize*dervF(A,x,b);\n",
    "    return x"
   ]
  },
  {
   "cell_type": "code",
   "execution_count": 35,
   "metadata": {},
   "outputs": [],
   "source": [
    "# SGD Using While\n",
    "\n",
    "def sgdAlg(stepsize,epsilon,A,x,b):\n",
    "    while(LA.norm(dervF(A,x,b)) > epsilon):\n",
    "        x = x - stepsize*dervF(A,x,b);\n",
    "    return x"
   ]
  },
  {
   "cell_type": "code",
   "execution_count": 43,
   "metadata": {
    "scrolled": true
   },
   "outputs": [],
   "source": [
    "# Constant Variables setup And Matrix Size definitions\n",
    "\n",
    "m , n = 1,20\n",
    "\n",
    "epsilon = 0.0001\n",
    "stepsize = 0.01\n",
    "A = np.random.rand(m,n)\n",
    "x = np.random.rand(n)\n",
    "b = np.random.rand(1,m)\n",
    "#derivative = dervF(A,x,np.transpose(b))\n"
   ]
  },
  {
   "cell_type": "code",
   "execution_count": 44,
   "metadata": {},
   "outputs": [],
   "source": [
    "#minimized values of X from the SGD, stochastic Gradient Descend Method\n",
    "\n",
    "Xmin = sgdAlg(stepsize,epsilon,A,x,np.transpose(b)) \n"
   ]
  },
  {
   "cell_type": "code",
   "execution_count": 48,
   "metadata": {},
   "outputs": [
    {
     "name": "stdout",
     "output_type": "stream",
     "text": [
      "[1.24268185e-01 6.76542318e+00 1.14913673e+00 1.98351660e-01\n",
      " 1.51005327e+01 2.93623514e-06 1.23479931e-01 1.46004199e-02\n",
      " 1.73392698e+01 2.49393292e-01 8.56322612e+00 2.92658689e+00\n",
      " 1.49377396e+00 3.66282780e-01 4.11703725e-01 1.78416782e-01\n",
      " 3.28999452e-01 3.59612248e-02 5.55678202e-01 1.42151225e+01]\n"
     ]
    }
   ],
   "source": [
    "# Passing Minimized Xmin through Q Function -> Ax - b = 0\n",
    "linear_eq_out = np.array([qfunc(A,i,np.transpose(b)) for i in Xmin])\n",
    "print(linear_eq_out)"
   ]
  },
  {
   "cell_type": "code",
   "execution_count": 46,
   "metadata": {},
   "outputs": [
    {
     "name": "stdout",
     "output_type": "stream",
     "text": [
      "(20, 20)\n"
     ]
    }
   ],
   "source": []
  },
  {
   "cell_type": "code",
   "execution_count": 47,
   "metadata": {},
   "outputs": [
    {
     "data": {
      "text/plain": [
       "Text(0, 0.5, 'Output of Function ')"
      ]
     },
     "execution_count": 47,
     "metadata": {},
     "output_type": "execute_result"
    },
    {
     "data": {
      "image/png": "[encoded data removed]",
      "text/plain": [
       "<Figure size 432x288 with 1 Axes>"
      ]
     },
     "metadata": {
      "needs_background": "light"
     },
     "output_type": "display_data"
    }
   ],
   "source": [
    "\n",
    "xaxis = Xmin\n",
    "plt.plot(linear_eq_out)\n",
    "plt.ylabel('Output of Function ')"
   ]
  },
  {
   "cell_type": "code",
   "execution_count": null,
   "metadata": {},
   "outputs": [],
   "source": [
    "# Below code is for testing purposes only Donot Run"
   ]
  },
  {
   "cell_type": "markdown",
   "metadata": {},
   "source": [
    "#print(A)\n",
    "#print(\"\\n\",b)\n",
    "\n",
    "print(\"Derivative: \",derivative.shape)\n",
    "print(qoutput.shape)\n",
    "#print(\"Xmin NoW--------:\",Xmin.shape)\n",
    "#qoutput = qfunc(A,Xmin[0],np.transpose(b))\n",
    "epsilon = 0.001\n",
    "stepsize = 0.01\n",
    "m , n = 2,4\n",
    "A = np.random.rand(m,n)\n",
    "x = np.random.rand(n)\n",
    "b = np.random.rand(m)\n",
    "\n",
    "#print(\"X BEFORE\",x.shape)\n",
    "x1 = np.arange(9.0).reshape((3, 3))\n",
    "x2 = np.arange(3.0).reshape(3,1)\n",
    "print(x1,x2,\"\\n\")\n",
    "print(np.subtract(x1, x2))\n"
   ]
  }
 ],
 "metadata": {
  "kernelspec": {
   "display_name": "Python 3",
   "language": "python",
   "name": "python3"
  },
  "language_info": {
   "codemirror_mode": {
    "name": "ipython",
    "version": 3
   },
   "file_extension": ".py",
   "mimetype": "text/x-python",
   "name": "python",
   "nbconvert_exporter": "python",
   "pygments_lexer": "ipython3",
   "version": "3.7.6"
  }
 },
 "nbformat": 4,
 "nbformat_minor": 4
}
